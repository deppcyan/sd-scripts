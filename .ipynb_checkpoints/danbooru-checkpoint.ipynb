{
 "cells": [
  {
   "cell_type": "code",
   "execution_count": null,
   "id": "98a2c43d-773b-4657-8627-26b98785badd",
   "metadata": {},
   "outputs": [],
   "source": []
  },
  {
   "cell_type": "code",
   "execution_count": 8,
   "id": "f020bdb0-4959-4fa1-8776-bc89c9eb2b14",
   "metadata": {},
   "outputs": [
    {
     "name": "stderr",
     "output_type": "stream",
     "text": [
      "Downloading page 1: 100%|███████████████████████████████████████████████████████████████████████████████████████████████████████████████████████████████████████████████████████| 90/90 [02:32<00:00,  1.70s/it]\n"
     ]
    },
    {
     "name": "stdout",
     "output_type": "stream",
     "text": [
      "No more posts available.\n"
     ]
    }
   ],
   "source": [
    "import os\n",
    "import requests\n",
    "from tqdm import tqdm\n",
    "\n",
    "# Set the URL for Danbooru's API\n",
    "DANBOORU_URL = 'https://danbooru.donmai.us/posts.json'\n",
    "\n",
    "# Configure your desired parameters\n",
    "PARAMS = {\n",
    "    'tags': 'pussy_sandwich',  # Replace with the tags you're interested in\n",
    "    'limit': 100,         # Number of posts per request (max 200)\n",
    "    'page': 1            # Page number to start\n",
    "}\n",
    "\n",
    "# Directory where images will be saved\n",
    "DOWNLOAD_DIR = 'danbooru_pussy_sandwich'\n",
    "\n",
    "# Create the directory if it doesn't exist\n",
    "os.makedirs(DOWNLOAD_DIR, exist_ok=True)\n",
    "\n",
    "def download_images():\n",
    "    while True:\n",
    "        # Fetch the posts from Danbooru\n",
    "        response = requests.get(DANBOORU_URL, params=PARAMS, auth=('deppcyan', 'qLo1krLRiyArWgDkX32Unnfn'))\n",
    "        #response = requests.get(DANBOORU_URL, params=PARAMS)\n",
    "        \n",
    "        if response.status_code != 200:\n",
    "            print(f\"Failed to retrieve posts: {response.status_code}\")\n",
    "            break\n",
    "\n",
    "        posts = response.json()\n",
    "\n",
    "        if not posts:\n",
    "            print(\"No more posts available.\")\n",
    "            break\n",
    "\n",
    "        for post in tqdm(posts, desc=f\"Downloading page {PARAMS['page']}\"):\n",
    "            # Only download if the post has a file URL\n",
    "            if 'file_url' in post and post['file_url']:\n",
    "                try:\n",
    "                    image_url = post['file_url']\n",
    "                    image_data = requests.get(image_url).content\n",
    "\n",
    "                    # Extract file name and save the image\n",
    "                    file_name = os.path.join(DOWNLOAD_DIR, os.path.basename(image_url))\n",
    "                    with open(file_name, 'wb') as image_file:\n",
    "                        image_file.write(image_data)\n",
    "\n",
    "                except Exception as e:\n",
    "                    print(f\"Failed to download image {image_url}: {e}\")\n",
    "\n",
    "        # Move to the next page\n",
    "        PARAMS['page'] += 1\n",
    "\n",
    "if __name__ == '__main__':\n",
    "    download_images()\n"
   ]
  },
  {
   "cell_type": "code",
   "execution_count": null,
   "id": "202c4ff1-4424-4210-a4c4-c7d11fbb3c64",
   "metadata": {},
   "outputs": [],
   "source": []
  }
 ],
 "metadata": {
  "kernelspec": {
   "display_name": "Python 3 (ipykernel)",
   "language": "python",
   "name": "python3"
  },
  "language_info": {
   "codemirror_mode": {
    "name": "ipython",
    "version": 3
   },
   "file_extension": ".py",
   "mimetype": "text/x-python",
   "name": "python",
   "nbconvert_exporter": "python",
   "pygments_lexer": "ipython3",
   "version": "3.10.14"
  }
 },
 "nbformat": 4,
 "nbformat_minor": 5
}
