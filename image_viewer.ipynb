{
 "cells": [
  {
   "cell_type": "code",
   "execution_count": 1,
   "id": "ab4ed500-b802-4fcb-bae6-ebe2c7fb65db",
   "metadata": {},
   "outputs": [
    {
     "name": "stderr",
     "output_type": "stream",
     "text": [
      "Matplotlib is building the font cache; this may take a moment.\n"
     ]
    },
    {
     "data": {
      "application/vnd.jupyter.widget-view+json": {
       "model_id": "cd29282309744be3959f63edc02a328c",
       "version_major": 2,
       "version_minor": 0
      },
      "text/plain": [
       "Dropdown(description='Select Image:', options=(), value=None)"
      ]
     },
     "metadata": {},
     "output_type": "display_data"
    },
    {
     "data": {
      "application/vnd.jupyter.widget-view+json": {
       "model_id": "30d301d5645c48718517f1403d3376c3",
       "version_major": 2,
       "version_minor": 0
      },
      "text/plain": [
       "Button(description='Show Image', style=ButtonStyle())"
      ]
     },
     "metadata": {},
     "output_type": "display_data"
    }
   ],
   "source": [
    "import os\n",
    "from PIL import Image\n",
    "import matplotlib.pyplot as plt\n",
    "import ipywidgets as widgets\n",
    "from IPython.display import display, clear_output\n",
    "\n",
    "# Set the directory path to browse\n",
    "directory_path = '/Users/johnny/Downloads/deviantart/porn'  # Replace with the actual directory path\n",
    "\n",
    "# Get a list of image files in the directory\n",
    "image_files = [file for file in os.listdir(directory_path) if file.lower().endswith(('.png', '.jpg', '.jpeg', '.gif'))]\n",
    "\n",
    "# Function to display image with name and resolution\n",
    "def show_image_info(image_file):\n",
    "    clear_output(wait=True)\n",
    "    image_path = os.path.join(directory_path, image_file)\n",
    "    img = Image.open(image_path)\n",
    "    plt.imshow(img)\n",
    "    plt.title(f\"Name: {image_file}, Resolution: {img.size[0]}x{img.size[1]}\")\n",
    "    plt.axis('off')\n",
    "    plt.show()\n",
    "\n",
    "# Dropdown widget for image selection\n",
    "image_dropdown = widgets.Dropdown(\n",
    "    options=image_files,\n",
    "    description='Select Image:',\n",
    "    disabled=False,\n",
    ")\n",
    "\n",
    "# Button to show selected image\n",
    "show_button = widgets.Button(description=\"Show Image\")\n",
    "\n",
    "# Define button action\n",
    "def on_button_click(b):\n",
    "    show_image_info(image_dropdown.value)\n",
    "\n",
    "# Link button action\n",
    "show_button.on_click(on_button_click)\n",
    "\n",
    "# Display widgets\n",
    "display(image_dropdown, show_button)\n"
   ]
  },
  {
   "cell_type": "code",
   "execution_count": null,
   "id": "7ef5c8b6-5679-4f57-ba93-bbf0a09d6c5d",
   "metadata": {},
   "outputs": [],
   "source": []
  }
 ],
 "metadata": {
  "kernelspec": {
   "display_name": "Python 3 (ipykernel)",
   "language": "python",
   "name": "python3"
  },
  "language_info": {
   "codemirror_mode": {
    "name": "ipython",
    "version": 3
   },
   "file_extension": ".py",
   "mimetype": "text/x-python",
   "name": "python",
   "nbconvert_exporter": "python",
   "pygments_lexer": "ipython3",
   "version": "3.10.14"
  }
 },
 "nbformat": 4,
 "nbformat_minor": 5
}
